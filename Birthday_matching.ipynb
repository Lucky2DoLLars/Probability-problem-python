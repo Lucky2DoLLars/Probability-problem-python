{
 "cells": [
  {
   "cell_type": "code",
   "execution_count": 1,
   "metadata": {},
   "outputs": [],
   "source": [
    "import numpy as np\n",
    "import matplotlib.pyplot as plt"
   ]
  },
  {
   "cell_type": "code",
   "execution_count": 29,
   "metadata": {},
   "outputs": [],
   "source": [
    "def Birthday_matching (n, num_same) :\n",
    "    \n",
    "    out = False\n",
    "    \n",
    "    birthday = np.random.randint(0, 366, size = n)\n",
    "    birthday_unique = np.unique(birthday)\n",
    "    \n",
    "    for i in range(0, len(birthday_unique)) :\n",
    "        num_of_matching = np.sum( birthday == birthday_unique[i] )\n",
    "        \n",
    "        if num_of_matching >= num_same :\n",
    "            out = True\n",
    "    \n",
    "    return(out)"
   ]
  },
  {
   "cell_type": "code",
   "execution_count": 30,
   "metadata": {},
   "outputs": [],
   "source": [
    "n = 23\n",
    "num_same = 2\n",
    "ITER = 10 ** 5\n",
    "result_list = []\n",
    "\n",
    "for i in range(1, ITER + 1) :\n",
    "    result_list.append(Birthday_matching(n, num_same))"
   ]
  },
  {
   "cell_type": "code",
   "execution_count": 37,
   "metadata": {},
   "outputs": [
    {
     "name": "stdout",
     "output_type": "stream",
     "text": [
      "Probability of the event at least group of 2 has the same birthday : 0.50734\n"
     ]
    }
   ],
   "source": [
    "prob = np.mean(result_list)\n",
    "print('Probability of the event at least group of {} has the same birthday : {}'.\n",
    "     format(num_same, prob))"
   ]
  }
 ],
 "metadata": {
  "kernelspec": {
   "display_name": "Python 3",
   "language": "python",
   "name": "python3"
  },
  "language_info": {
   "codemirror_mode": {
    "name": "ipython",
    "version": 3
   },
   "file_extension": ".py",
   "mimetype": "text/x-python",
   "name": "python",
   "nbconvert_exporter": "python",
   "pygments_lexer": "ipython3",
   "version": "3.8.5"
  }
 },
 "nbformat": 4,
 "nbformat_minor": 4
}

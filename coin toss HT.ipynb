{
 "cells": [
  {
   "cell_type": "code",
   "execution_count": 61,
   "metadata": {},
   "outputs": [],
   "source": [
    "import numpy as np\n",
    "\n",
    "def coin_toss_HT():\n",
    "    x_old = np.random.randint(0, 2, size = 1)\n",
    "    x_new = np.random.randint(0, 2, size = 1)\n",
    "    num_of_iter = 2\n",
    "    result = np.concatenate((x_old, x_new))\n",
    "    while sum(result == [1, 0]) != 2:\n",
    "        num_of_iter = num_of_iter + 1\n",
    "        x_old = x_new\n",
    "        x_new = np.random.randint(0, 2, size = 1)\n",
    "        result = np.concatenate((x_old, x_new))\n",
    "    return(num_of_iter)"
   ]
  },
  {
   "cell_type": "code",
   "execution_count": 66,
   "metadata": {},
   "outputs": [],
   "source": [
    "result_list = []\n",
    "for i in range(0, 10001):\n",
    "    result_list.append(coin_toss_HT())"
   ]
  },
  {
   "cell_type": "code",
   "execution_count": 65,
   "metadata": {},
   "outputs": [
    {
     "data": {
      "text/plain": [
       "3.996880031199688"
      ]
     },
     "execution_count": 65,
     "metadata": {},
     "output_type": "execute_result"
    }
   ],
   "source": [
    "np.mean(result_list)"
   ]
  }
 ],
 "metadata": {
  "kernelspec": {
   "display_name": "Python 3",
   "language": "python",
   "name": "python3"
  },
  "language_info": {
   "codemirror_mode": {
    "name": "ipython",
    "version": 3
   },
   "file_extension": ".py",
   "mimetype": "text/x-python",
   "name": "python",
   "nbconvert_exporter": "python",
   "pygments_lexer": "ipython3",
   "version": "3.8.5"
  }
 },
 "nbformat": 4,
 "nbformat_minor": 4
}

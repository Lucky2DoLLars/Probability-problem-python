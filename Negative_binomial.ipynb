{
 "cells": [
  {
   "cell_type": "code",
   "execution_count": 57,
   "metadata": {},
   "outputs": [],
   "source": [
    "import numpy as np\n",
    "import matplotlib.pyplot as plt\n",
    "import seaborn as sns\n",
    "import pandas as pd"
   ]
  },
  {
   "cell_type": "code",
   "execution_count": 58,
   "metadata": {},
   "outputs": [],
   "source": [
    "# Generating r.v. from negative binomial distribution\n",
    "\n",
    "def Negative_binomial (r, p) :\n",
    "    trial = 0\n",
    "    n = 0\n",
    "    \n",
    "    while trial < r :\n",
    "        u = np.random.uniform(low = 0.0, high = 1)\n",
    "        \n",
    "        if u < p :\n",
    "            trial = trial + 1\n",
    "        n = n + 1\n",
    "    \n",
    "    return(n)"
   ]
  },
  {
   "cell_type": "code",
   "execution_count": 59,
   "metadata": {},
   "outputs": [],
   "source": [
    "r = 3\n",
    "p = 0.5\n",
    "\n",
    "ITER = 10 ** 5\n",
    "result_list = []\n",
    "for i in range(0, ITER + 1) :\n",
    "    result_list.append(Negative_binomial(r, p))"
   ]
  },
  {
   "cell_type": "code",
   "execution_count": 60,
   "metadata": {},
   "outputs": [
    {
     "name": "stdout",
     "output_type": "stream",
     "text": [
      "mean : 6.005309946900531\n"
     ]
    }
   ],
   "source": [
    "print('mean :', np.mean(result_list))"
   ]
  },
  {
   "cell_type": "code",
   "execution_count": 61,
   "metadata": {},
   "outputs": [
    {
     "data": {
      "image/png": "[encoded data removed]",
      "text/plain": [
       "<Figure size 432x288 with 1 Axes>"
      ]
     },
     "metadata": {},
     "output_type": "display_data"
    }
   ],
   "source": [
    "plt.hist(result_list,\n",
    "         bins = 10,\n",
    "         density = True)\n",
    "plt.title('Histogram of Negative binomial distribution')\n",
    "plt.show()"
   ]
  }
 ],
 "metadata": {
  "kernelspec": {
   "display_name": "Python 3",
   "language": "python",
   "name": "python3"
  },
  "language_info": {
   "codemirror_mode": {
    "name": "ipython",
    "version": 3
   },
   "file_extension": ".py",
   "mimetype": "text/x-python",
   "name": "python",
   "nbconvert_exporter": "python",
   "pygments_lexer": "ipython3",
   "version": "3.8.5"
  }
 },
 "nbformat": 4,
 "nbformat_minor": 4
}
